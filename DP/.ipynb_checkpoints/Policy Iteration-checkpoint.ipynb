{
 "cells": [
  {
   "cell_type": "code",
   "execution_count": 2,
   "id": "f57f59bc",
   "metadata": {},
   "outputs": [],
   "source": [
    "import numpy as np\n",
    "import pprint\n",
    "import sys\n",
    "if \"../\" not in sys.path:\n",
    "    sys.path.append(\"../\") \n",
    "from lib.envs.gridworld import GridworldEnv"
   ]
  },
  {
   "cell_type": "code",
   "execution_count": 3,
   "id": "11faadd3",
   "metadata": {},
   "outputs": [],
   "source": [
    "env = GridworldEnv()"
   ]
  },
  {
   "cell_type": "code",
   "execution_count": 4,
   "id": "1fb24f56",
   "metadata": {},
   "outputs": [
    {
     "name": "stdout",
     "output_type": "stream",
     "text": [
      "T  o  o  o\n",
      "o  o  o  o\n",
      "x  o  o  o\n",
      "o  o  o  T\n"
     ]
    }
   ],
   "source": [
    "env.render()"
   ]
  },
  {
   "cell_type": "code",
   "execution_count": 5,
   "id": "80a5e079",
   "metadata": {},
   "outputs": [],
   "source": [
    "def policy_eval(policy, env, discount_factor=1.0, theta=0.000001):\n",
    "    \n",
    "    V = np.zeros(env.nS)\n",
    "    \n",
    "    while True:\n",
    "        delta = 0\n",
    "        for s in range(env.nS):\n",
    "            v = 0\n",
    "            for a, action_prob in enumerate(policy[s]):\n",
    "                for prob, next_s, reward, is_done in env.P[s][a]:\n",
    "                    v += action_prob*prob*(reward + discount_factor*V[next_s])\n",
    "            delta = max(delta, abs(V[s]-v))\n",
    "            V[s]=v\n",
    "        if delta <=theta:\n",
    "            break\n",
    "    return V    "
   ]
  },
  {
   "cell_type": "code",
   "execution_count": 11,
   "id": "5b861d67",
   "metadata": {},
   "outputs": [],
   "source": [
    "def policy_iter(env, policy_eval_fn=policy_eval, discount_factor=1.0):\n",
    "    \n",
    "    # start off with a random policy\n",
    "    # evaluate the policy\n",
    "    # change policy to act greedily wrt evaluated policy\n",
    "    \n",
    "    def one_step_lookahead(s, v):\n",
    "        A = np.zeros((env.nA))\n",
    "        for a, action_prob in enumerate(policy[s]):\n",
    "            for prob, next_s, reward, is_done in env.P[s][a]:\n",
    "                A[a] += prob*(reward+discount_factor*v[next_s])\n",
    "        return A\n",
    "    \n",
    "    policy = np.ones((env.nS, env.nA))/env.nA\n",
    "    while True:\n",
    "        policy_stable = True\n",
    "        \n",
    "        v = policy_eval(policy, env, discount_factor=discount_factor)\n",
    "        \n",
    "        for s in range(env.nS):\n",
    "            # In order to act greedily wrt to the above value function we need to calculate the action-value function\n",
    "            chosen_a = np.argmax(policy[s])\n",
    "            a = one_step_lookahead(s, v)\n",
    "            best_a = np.argmax(a)\n",
    "            \n",
    "            # Check whether the policy has reached optimal strategy or not\n",
    "            if chosen_a != best_a:\n",
    "                policy_stable = False\n",
    "            policy[s] = np.eye(env.nA)[best_a]\n",
    "        \n",
    "        if policy_stable:\n",
    "            break\n",
    "    return policy\n",
    "            \n",
    "    "
   ]
  },
  {
   "cell_type": "code",
   "execution_count": 19,
   "id": "25fbc13e",
   "metadata": {},
   "outputs": [],
   "source": [
    "optimal_policy = policy_iter(env)"
   ]
  },
  {
   "cell_type": "code",
   "execution_count": 20,
   "id": "fe4ca789",
   "metadata": {},
   "outputs": [],
   "source": [
    "optimal_value_fn = policy_eval(optimal_policy, env)"
   ]
  },
  {
   "cell_type": "code",
   "execution_count": 22,
   "id": "a5696fe0",
   "metadata": {},
   "outputs": [
    {
     "data": {
      "text/plain": [
       "array([[ 0., -1., -2., -3.],\n",
       "       [-1., -2., -3., -2.],\n",
       "       [-2., -3., -2., -1.],\n",
       "       [-3., -2., -1.,  0.]])"
      ]
     },
     "execution_count": 22,
     "metadata": {},
     "output_type": "execute_result"
    }
   ],
   "source": [
    "optimal_value_fn.reshape(4,4)"
   ]
  },
  {
   "cell_type": "code",
   "execution_count": 23,
   "id": "804fe948",
   "metadata": {},
   "outputs": [],
   "source": [
    "expected_v = np.array([ 0, -1, -2, -3, -1, -2, -3, -2, -2, -3, -2, -1, -3, -2, -1,  0])\n",
    "np.testing.assert_array_almost_equal(optimal_value_fn, expected_v, decimal=2)"
   ]
  },
  {
   "cell_type": "code",
   "execution_count": null,
   "id": "ff5785e1",
   "metadata": {},
   "outputs": [],
   "source": []
  }
 ],
 "metadata": {
  "kernelspec": {
   "display_name": "deeprl",
   "language": "python",
   "name": "deeprl"
  },
  "language_info": {
   "codemirror_mode": {
    "name": "ipython",
    "version": 3
   },
   "file_extension": ".py",
   "mimetype": "text/x-python",
   "name": "python",
   "nbconvert_exporter": "python",
   "pygments_lexer": "ipython3",
   "version": "3.7.3"
  }
 },
 "nbformat": 4,
 "nbformat_minor": 5
}
