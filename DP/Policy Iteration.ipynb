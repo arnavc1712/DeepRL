{
 "cells": [
  {
   "cell_type": "code",
   "execution_count": 24,
   "id": "38ffcc9e",
   "metadata": {},
   "outputs": [],
   "source": [
    "import numpy as np\n",
    "import pprint\n",
    "import sys\n",
    "if \"../\" not in sys.path:\n",
    "    sys.path.append(\"../\") \n",
    "from lib.envs.gridworld import GridworldEnv"
   ]
  },
  {
   "cell_type": "code",
   "execution_count": 25,
   "id": "6f37f5ae",
   "metadata": {},
   "outputs": [],
   "source": [
    "env = GridworldEnv()"
   ]
  },
  {
   "cell_type": "code",
   "execution_count": 26,
   "id": "d4504f19",
   "metadata": {},
   "outputs": [
    {
     "name": "stdout",
     "output_type": "stream",
     "text": [
      "T  o  o  o\n",
      "o  o  o  o\n",
      "x  o  o  o\n",
      "o  o  o  T\n"
     ]
    }
   ],
   "source": [
    "env.render()"
   ]
  },
  {
   "cell_type": "code",
   "execution_count": 27,
   "id": "e8f84e97",
   "metadata": {},
   "outputs": [],
   "source": [
    "def policy_eval(policy, env, discount_factor=1.0, theta=0.000001):\n",
    "    \n",
    "    V = np.zeros(env.nS)\n",
    "    \n",
    "    while True:\n",
    "        delta = 0\n",
    "        for s in range(env.nS):\n",
    "            v = 0\n",
    "            for a, action_prob in enumerate(policy[s]):\n",
    "                for prob, next_s, reward, is_done in env.P[s][a]:\n",
    "                    v += action_prob*prob*(reward + discount_factor*V[next_s])\n",
    "            delta = max(delta, abs(V[s]-v))\n",
    "            V[s]=v\n",
    "        if delta <=theta:\n",
    "            break\n",
    "    return V    "
   ]
  },
  {
   "cell_type": "code",
   "execution_count": 31,
   "id": "d08daa2f",
   "metadata": {},
   "outputs": [],
   "source": [
    "def policy_iter(env, policy_eval_fn=policy_eval, discount_factor=1.0):\n",
    "    \n",
    "    \"\"\"\n",
    "    Policy Improvement Algorithm. Iteratively evaluates and improves a policy\n",
    "    until an optimal policy is found.\n",
    "    \n",
    "    Args:\n",
    "        env: The OpenAI environment.\n",
    "        policy_eval_fn: Policy Evaluation function that takes 3 arguments:\n",
    "            policy, env, discount_factor.\n",
    "        discount_factor: gamma discount factor.\n",
    "        \n",
    "    Returns:\n",
    "        A tuple (policy, V). \n",
    "        policy is the optimal policy, a matrix of shape [S, A] where each state s\n",
    "        contains a valid probability distribution over actions.\n",
    "        V is the value function for the optimal policy.\n",
    "        \n",
    "    \"\"\"\n",
    "    \n",
    "    # start off with a random policy\n",
    "    # evaluate the policy\n",
    "    # change policy to act greedily wrt evaluated policy\n",
    "    \n",
    "    def one_step_lookahead(s, v):\n",
    "        # Calculate action values for all actions in a given state\n",
    "        A = np.zeros((env.nA))\n",
    "        for a, action_prob in enumerate(policy[s]):\n",
    "            for prob, next_s, reward, is_done in env.P[s][a]:\n",
    "                A[a] += prob*(reward+discount_factor*v[next_s])\n",
    "        return A\n",
    "    \n",
    "    policy = np.ones((env.nS, env.nA))/env.nA\n",
    "    while True:\n",
    "        policy_stable = True\n",
    "        \n",
    "        v = policy_eval(policy, env, discount_factor=discount_factor)\n",
    "        \n",
    "        for s in range(env.nS):\n",
    "            # In order to act greedily wrt to the above value function we need to calculate the action-value function\n",
    "            chosen_a = np.argmax(policy[s])\n",
    "            a = one_step_lookahead(s, v)\n",
    "            best_a = np.argmax(a)\n",
    "            \n",
    "            # Check whether the policy has reached optimal strategy or not\n",
    "            if chosen_a != best_a:\n",
    "                policy_stable = False\n",
    "            policy[s] = np.eye(env.nA)[best_a]\n",
    "        \n",
    "        if policy_stable:\n",
    "            break\n",
    "    return policy\n",
    "            \n",
    "    "
   ]
  },
  {
   "cell_type": "code",
   "execution_count": 32,
   "id": "8605aa78",
   "metadata": {},
   "outputs": [],
   "source": [
    "optimal_policy = policy_iter(env)"
   ]
  },
  {
   "cell_type": "code",
   "execution_count": 34,
   "id": "7073e26e",
   "metadata": {},
   "outputs": [
    {
     "data": {
      "text/plain": [
       "{0: 'UP', 1: 'RIGHT', 2: 'DOWN', 3: 'LEFT'}"
      ]
     },
     "execution_count": 34,
     "metadata": {},
     "output_type": "execute_result"
    }
   ],
   "source": [
    "env.get_action_meanings()"
   ]
  },
  {
   "cell_type": "code",
   "execution_count": 37,
   "id": "33e6aa06",
   "metadata": {},
   "outputs": [
    {
     "data": {
      "text/plain": [
       "array([['UP', 'LEFT', 'LEFT', 'DOWN'],\n",
       "       ['UP', 'UP', 'UP', 'DOWN'],\n",
       "       ['UP', 'UP', 'RIGHT', 'DOWN'],\n",
       "       ['UP', 'RIGHT', 'RIGHT', 'UP']], dtype='<U5')"
      ]
     },
     "execution_count": 37,
     "metadata": {},
     "output_type": "execute_result"
    }
   ],
   "source": [
    "np.reshape([env.get_action_meanings()[np.argmax(x)] for x in optimal_policy],(4,4))"
   ]
  },
  {
   "cell_type": "code",
   "execution_count": 20,
   "id": "cbf4116c",
   "metadata": {},
   "outputs": [],
   "source": [
    "optimal_value_fn = policy_eval(optimal_policy, env)"
   ]
  },
  {
   "cell_type": "code",
   "execution_count": 22,
   "id": "1eeae5d2",
   "metadata": {},
   "outputs": [
    {
     "data": {
      "text/plain": [
       "array([[ 0., -1., -2., -3.],\n",
       "       [-1., -2., -3., -2.],\n",
       "       [-2., -3., -2., -1.],\n",
       "       [-3., -2., -1.,  0.]])"
      ]
     },
     "execution_count": 22,
     "metadata": {},
     "output_type": "execute_result"
    }
   ],
   "source": [
    "optimal_value_fn.reshape(4,4)"
   ]
  },
  {
   "cell_type": "code",
   "execution_count": 23,
   "id": "e3da9473",
   "metadata": {},
   "outputs": [],
   "source": [
    "expected_v = np.array([ 0, -1, -2, -3, -1, -2, -3, -2, -2, -3, -2, -1, -3, -2, -1,  0])\n",
    "np.testing.assert_array_almost_equal(optimal_value_fn, expected_v, decimal=2)"
   ]
  },
  {
   "cell_type": "code",
   "execution_count": null,
   "id": "d8a22e99",
   "metadata": {},
   "outputs": [],
   "source": []
  }
 ],
 "metadata": {
  "kernelspec": {
   "display_name": "deeprl",
   "language": "python",
   "name": "deeprl"
  },
  "language_info": {
   "codemirror_mode": {
    "name": "ipython",
    "version": 3
   },
   "file_extension": ".py",
   "mimetype": "text/x-python",
   "name": "python",
   "nbconvert_exporter": "python",
   "pygments_lexer": "ipython3",
   "version": "3.7.3"
  }
 },
 "nbformat": 4,
 "nbformat_minor": 5
}
