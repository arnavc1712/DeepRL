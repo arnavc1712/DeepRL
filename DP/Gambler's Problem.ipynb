{
 "cells": [
  {
   "cell_type": "markdown",
   "id": "62b0ce13",
   "metadata": {},
   "source": [
    "### This is Example 4.3. Gambler’s Problem from Sutton's book.\n",
    "\n",
    "A gambler has the opportunity to make bets on the outcomes of a sequence of coin flips. If the coin comes up heads, he wins as many dollars as he has staked on that flip; if it is tails, he loses his stake. The game ends when the gambler wins by reaching his goal of $100, or loses by running out of money.\n",
    "\n",
    "On each flip, the gambler must decide what portion of his capital to stake, in integer numbers of dollars. This problem can be formulated as an undiscounted, episodic, finite MDP.\n",
    "\n",
    "The state is the gambler’s capital, s ∈ {1, 2, . . . , 99}. The actions are stakes, a ∈ {0, 1, . . . , min(s, 100 − s)}. The reward is zero on all transitions except those on which the gambler reaches his goal, when it is +1.\n",
    "\n",
    "The state-value function then gives the probability of winning from each state. A policy is a mapping from levels of capital to stakes. The optimal policy maximizes the probability of reaching the goal. Let p_h denote the probability of the coin coming up heads. If p_h is known, then the entire problem is known and it can be solved, for instance, by value iteration."
   ]
  },
  {
   "cell_type": "code",
   "execution_count": 1,
   "id": "46ec0cbd",
   "metadata": {},
   "outputs": [],
   "source": [
    "import numpy as np\n",
    "import sys\n",
    "import matplotlib.pyplot as plt\n",
    "if \"../\" not in sys.path:\n",
    "    sys.path.append(\"../\") "
   ]
  },
  {
   "cell_type": "markdown",
   "id": "9b45a97f",
   "metadata": {},
   "source": [
    "### Exercise 4.9 (programming)"
   ]
  },
  {
   "cell_type": "markdown",
   "id": "0862a319",
   "metadata": {},
   "source": [
    "Implement value iteration for the gambler’s problem and solve it for p_h = 0.25 and p_h = 0.55."
   ]
  },
  {
   "cell_type": "code",
   "execution_count": 37,
   "id": "6460628e",
   "metadata": {},
   "outputs": [],
   "source": [
    "def value_iteration_for_gamblers(p_h, theta=0.0001, discount_factor=1.0):\n",
    "    \"\"\"\n",
    "    Args:\n",
    "        p_h: Probability of the coin coming up heads\n",
    "    \"\"\"\n",
    "    \n",
    "    def one_step_lookahead(s, V):\n",
    "        \"\"\"\n",
    "        Helper function to calculate the value for all action in a given state.\n",
    "        \n",
    "        Args:\n",
    "            s: The gambler’s capital. Integer.\n",
    "            V: The vector that contains values at each state. \n",
    "            rewards: The reward vector.\n",
    "                        \n",
    "        Returns:\n",
    "            A vector containing the expected value of each action. \n",
    "            Its length equals to the number of actions.\n",
    "        \"\"\"\n",
    "        A = np.zeros((nA,))\n",
    "        reward_fn = lambda x: 1 if x==100 else 0\n",
    "        for a in range(1, min(s,100-s)+1):\n",
    "            next_s = max(0,min(100,s+a))\n",
    "            A[a] += p_h*(reward_fn(next_s) + discount_factor*V[next_s])\n",
    "            next_s = max(0,min(100,s-a))\n",
    "            A[a] += (1-p_h)*(reward_fn(next_s) + discount_factor*V[next_s])\n",
    "        return A\n",
    "    \n",
    "    nS = 101\n",
    "    nA = 101\n",
    "    \n",
    "    policy = np.zeros(nS-1)\n",
    "    V = np.zeros((nS,)) #initializing value of each state to be 0\n",
    "    \n",
    "    while True:\n",
    "        delta = 0\n",
    "        for s in range(nS):\n",
    "            action_values = one_step_lookahead(s, V)\n",
    "            best_action = np.argmax(action_values)\n",
    "            best_action_val = action_values[best_action]\n",
    "            \n",
    "            delta = max(delta, abs(V[s]-best_action_val))\n",
    "            V[s] = best_action_val\n",
    "        if delta < theta:\n",
    "            break\n",
    "    \n",
    "    for s in range(nS-1):\n",
    "        \n",
    "        best_action = np.argmax(one_step_lookahead(s, V))\n",
    "        policy[s] = best_action\n",
    "    \n",
    "    return policy, V"
   ]
  },
  {
   "cell_type": "code",
   "execution_count": 41,
   "id": "8a8ce6ad",
   "metadata": {},
   "outputs": [
    {
     "name": "stdout",
     "output_type": "stream",
     "text": [
      "Optimized Policy:\n",
      "[ 0.  1.  2.  3.  4.  5.  6.  7.  8.  9. 10. 11. 12. 13. 11. 15.  9. 17.\n",
      "  7. 19. 20. 21. 22. 23. 24. 25.  1.  2.  3.  4.  5.  6.  7.  8.  9. 10.\n",
      " 11. 12. 38. 39. 40.  9.  8. 43. 44. 45.  4. 47.  2.  1. 50.  1.  2.  3.\n",
      "  4.  5.  6.  7.  8. 41. 10. 11. 12. 13. 14. 15. 34.  8. 18. 19. 20.  4.\n",
      " 22.  2.  1. 25.  1.  2.  3.  4.  5.  6.  7.  8.  9. 10. 11. 12. 12. 11.\n",
      " 10.  9.  8.  7.  6.  5.  4.  3.  2.  1.]\n",
      "\n",
      "Optimized Value Function:\n",
      "[0.         0.00203162 0.00515507 0.00922512 0.01290418 0.01738208\n",
      " 0.02306279 0.02781403 0.03227457 0.03767825 0.04346082 0.05035153\n",
      " 0.05765757 0.06521897 0.06953507 0.07442925 0.08068842 0.08660695\n",
      " 0.09421092 0.10313138 0.10865755 0.11596417 0.12587883 0.1335785\n",
      " 0.1441471  0.16       0.16309304 0.16774251 0.17383767 0.17936474\n",
      " 0.18607649 0.19459454 0.20172104 0.20841305 0.21652655 0.22519453\n",
      " 0.2355273  0.24648826 0.25785582 0.2643026  0.27164589 0.28103263\n",
      " 0.28991593 0.30131638 0.31471349 0.32298754 0.33394956 0.3488281\n",
      " 0.36036974 0.37622184 0.4        0.40309304 0.40774251 0.41383767\n",
      " 0.41936474 0.42607649 0.43459454 0.44172104 0.44841305 0.45652655\n",
      " 0.46519453 0.4755273  0.48648826 0.49785582 0.5043026  0.51164589\n",
      " 0.52103263 0.52991593 0.54131638 0.55471349 0.56298754 0.57394956\n",
      " 0.5888281  0.60036974 0.61622184 0.64       0.6446455  0.65161885\n",
      " 0.66075673 0.66904783 0.67911672 0.69189296 0.70258156 0.71261958\n",
      " 0.72478983 0.73779252 0.75329686 0.7697331  0.7867873  0.79645404\n",
      " 0.80747003 0.82154894 0.8348739  0.85197811 0.87207238 0.88448202\n",
      " 0.90092434 0.92324343 0.9405546  0.96433276 0.        ]\n",
      "\n"
     ]
    }
   ],
   "source": [
    "policy, v = value_iteration_for_gamblers(0.4)\n",
    "\n",
    "print(\"Optimized Policy:\")\n",
    "print(policy)\n",
    "print(\"\")\n",
    "\n",
    "print(\"Optimized Value Function:\")\n",
    "print(v)\n",
    "print(\"\")"
   ]
  },
  {
   "cell_type": "code",
   "execution_count": 42,
   "id": "672a01d3",
   "metadata": {},
   "outputs": [
    {
     "data": {
      "image/png": "[encoded data removed]",
      "text/plain": [
       "<Figure size 432x288 with 1 Axes>"
      ]
     },
     "metadata": {
      "needs_background": "light"
     },
     "output_type": "display_data"
    }
   ],
   "source": [
    "# Plotting Final Policy (action stake) vs State (Capital)\n",
    "\n",
    "# x axis values\n",
    "x = range(100)\n",
    "# corresponding y axis values\n",
    "y = v[:100]\n",
    " \n",
    "# plotting the points \n",
    "plt.plot(x, y)\n",
    " \n",
    "# naming the x axis\n",
    "plt.xlabel('Capital')\n",
    "# naming the y axis\n",
    "plt.ylabel('Value Estimates')\n",
    " \n",
    "# giving a title to the graph\n",
    "plt.title('Final Policy (action stake) vs State (Capital)')\n",
    " \n",
    "# function to show the plot\n",
    "plt.show()"
   ]
  },
  {
   "cell_type": "code",
   "execution_count": 43,
   "id": "7bf39fdf",
   "metadata": {},
   "outputs": [
    {
     "data": {
      "image/png": "[encoded data removed]",
      "text/plain": [
       "<Figure size 432x288 with 1 Axes>"
      ]
     },
     "metadata": {
      "needs_background": "light"
     },
     "output_type": "display_data"
    }
   ],
   "source": [
    "# Plotting Capital vs Final Policy\n",
    "\n",
    "# x axis values\n",
    "x = range(100)\n",
    "# corresponding y axis values\n",
    "y = policy\n",
    " \n",
    "# plotting the bars\n",
    "plt.bar(x, y, align='center', alpha=0.5)\n",
    " \n",
    "# naming the x axis\n",
    "plt.xlabel('Capital')\n",
    "# naming the y axis\n",
    "plt.ylabel('Final policy (stake)')\n",
    " \n",
    "# giving a title to the graph\n",
    "plt.title('Capital vs Final Policy')\n",
    " \n",
    "# function to show the plot\n",
    "plt.show()"
   ]
  },
  {
   "cell_type": "code",
   "execution_count": null,
   "id": "b26f4188",
   "metadata": {},
   "outputs": [],
   "source": []
  }
 ],
 "metadata": {
  "kernelspec": {
   "display_name": "deeprl",
   "language": "python",
   "name": "deeprl"
  },
  "language_info": {
   "codemirror_mode": {
    "name": "ipython",
    "version": 3
   },
   "file_extension": ".py",
   "mimetype": "text/x-python",
   "name": "python",
   "nbconvert_exporter": "python",
   "pygments_lexer": "ipython3",
   "version": "3.7.3"
  }
 },
 "nbformat": 4,
 "nbformat_minor": 5
}
